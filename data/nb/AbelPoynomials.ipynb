{
 "cells": [
  {
   "cell_type": "code",
   "execution_count": 1,
   "id": "7627c01a-805e-4fd4-a84b-4ab54aba8240",
   "metadata": {
    "vscode": {
     "languageId": "wolfram"
    }
   },
   "outputs": [],
   "source": [
    "Unprotect[Power]; Power[0, 0] = 1;"
   ]
  },
  {
   "cell_type": "markdown",
   "id": "399cc953-0c35-4ae3-beab-d8e4ddc40398",
   "metadata": {},
   "source": [
    "# <font color=green>Signed Abel Polynomials</font>  "
   ]
  },
  {
   "cell_type": "code",
   "execution_count": null,
   "id": "12f878e3-15d0-4232-954c-2f093636c8af",
   "metadata": {
    "vscode": {
     "languageId": "wolfram language"
    }
   },
   "outputs": [],
   "source": [
    "HoldForm[A[n, x] = x*(x - n)^(n - 1)] // TeXForm"
   ]
  },
  {
   "cell_type": "code",
   "execution_count": 2,
   "id": "4a258d6c",
   "metadata": {
    "vscode": {
     "languageId": "wolfram"
    }
   },
   "outputs": [
    {
     "data": {
      "text/html": [
       "<div>&#36;&#36;&#65;&#40;&#110;&#44;&#120;&#41;&#61;&#120;&#32;&#40;&#120;&#45;&#110;&#41;&#94;&#123;&#110;&#45;&#49;&#125;&#36;&#36;</div>"
      ],
      "text/plain": [
       "A(n,x)=x (x-n)^{n-1}"
      ]
     },
     "execution_count": 2,
     "metadata": {
      "text/html": [],
      "text/plain": []
     },
     "output_type": "execute_result"
    }
   ],
   "source": [
    "HoldForm[A[n, x] = x*(x - n)^(n - 1)] // TeXForm"
   ]
  },
  {
   "cell_type": "code",
   "execution_count": null,
   "id": "1a290eac-6d26-4c4a-a546-9382a733a6f2",
   "metadata": {
    "vscode": {
     "languageId": "wolfram language"
    }
   },
   "outputs": [],
   "source": [
    "(* AbelPoly[n_, x_] := Sum[(-1)^(n-k)*Binomial[n-1, k-1]*n^(n - k)*x^k, {k, 0, n}] *)"
   ]
  },
  {
   "cell_type": "code",
   "execution_count": null,
   "id": "002a7f75-e091-4eef-a246-fbea10bdb87b",
   "metadata": {
    "vscode": {
     "languageId": "wolfram language"
    }
   },
   "outputs": [],
   "source": [
    "AbelPoly[0, x_] = 1; AbelPoly[1, x_] = x;\n",
    "AbelPoly[n_, x_] := x*(x - n)^(n - 1);\n",
    "AbelTable := Table[Expand[AbelPoly[n, x]], {n, 0, 7}];\n",
    "AbelTable // TeXForm"
   ]
  },
  {
   "cell_type": "code",
   "execution_count": null,
   "id": "66dca439-c9e8-482e-b01c-2b06534b10c0",
   "metadata": {
    "vscode": {
     "languageId": "wolfram language"
    }
   },
   "outputs": [],
   "source": [
    "Table[CoefficientList[AbelPoly[n, x], x], {n, 0, 7}] // TableForm // TeXForm"
   ]
  },
  {
   "cell_type": "code",
   "execution_count": null,
   "id": "bc1e08e8-664a-4466-a357-a8ac5d60da1c",
   "metadata": {
    "vscode": {
     "languageId": "wolfram language"
    }
   },
   "outputs": [],
   "source": [
    "Off[Power::infy]\n",
    "Off[Infinity::indet]\n",
    "\n",
    "Table[AbelPoly[n, -n], {n, 0, 7}] // TeXForm\n",
    "Table[AbelPoly[n, -1], {n, 0, 14}] // TeXForm\n",
    "Table[AbelPoly[n, 0], {n, 0, 14}]  // TeXForm\n",
    "Table[AbelPoly[n, 1], {n, 0, 14}]  // TeXForm\n",
    "Table[AbelPoly[n, n], {n, 0, 14}]  // TeXForm"
   ]
  },
  {
   "cell_type": "code",
   "execution_count": null,
   "id": "ba38c57c-29f1-4b6d-a7ce-5e87f94fff04",
   "metadata": {
    "vscode": {
     "languageId": "wolfram language"
    }
   },
   "outputs": [],
   "source": [
    "Off[Power::infy]\n",
    "Off[Infinity::indet]\n",
    "\n",
    "Table[1/AbelPoly[-n, n], {n, 0, 7}]\n",
    "Table[AbelPoly[-1, n], {n, 0, 14}]\n",
    "Table[AbelPoly[0, n], {n, 0, 14}]\n",
    "Table[AbelPoly[1, n], {n, 0, 14}]\n",
    "Table[AbelPoly[n, n], {n, 0, 14}]"
   ]
  },
  {
   "cell_type": "code",
   "execution_count": null,
   "id": "9de4bd6a-5996-482b-b7f1-76f8821729e8",
   "metadata": {
    "vscode": {
     "languageId": "wolfram language"
    }
   },
   "outputs": [],
   "source": [
    "Plot[Evaluate[Table[AbelPoly[x, n], {n, 5}]], {x, -2, 4}, WorkingPrecision -> 50, PlotTheme -> \"Detailed\"]"
   ]
  },
  {
   "cell_type": "markdown",
   "id": "702a9c44-fd85-4c66-adbe-798228828251",
   "metadata": {},
   "source": [
    "# <font color=green>Unsigned Abel Polynomials</font>  "
   ]
  },
  {
   "cell_type": "code",
   "execution_count": null,
   "id": "715dbcfb-ff60-4d72-8698-f5da91aec1d2",
   "metadata": {
    "vscode": {
     "languageId": "wolfram language"
    }
   },
   "outputs": [],
   "source": [
    "HoldForm[A[n, x] = x*(n + x)^(n - 1)] // TeXForm"
   ]
  },
  {
   "cell_type": "code",
   "execution_count": null,
   "id": "cddd29f8-3000-464b-abfb-0e1c7cdd8831",
   "metadata": {
    "vscode": {
     "languageId": "wolfram language"
    }
   },
   "outputs": [],
   "source": [
    "(* UsAbelPoly[n_, x_] := Sum[Binomial[n-1, k-1]*n^(n - k)*x^k, {k, 0, n}] *)"
   ]
  },
  {
   "cell_type": "code",
   "execution_count": null,
   "id": "6c35106c-6ba6-485c-bf94-21b8b286f2b7",
   "metadata": {
    "vscode": {
     "languageId": "wolfram language"
    }
   },
   "outputs": [],
   "source": [
    "UsAbelPoly[0, x_] = 1; UsAbelPoly[1, x_] = x;\n",
    "UsAbelPoly[n_, x_] := x*(n + x)^(n - 1)\n",
    "UsAbelTable := Table[Expand[UsAbelPoly[n, x]], {n, 0, 7}];\n",
    "UsAbelTable // TeXForm"
   ]
  },
  {
   "cell_type": "code",
   "execution_count": null,
   "id": "ad764eef-90cc-4091-828d-9861288d67b8",
   "metadata": {
    "vscode": {
     "languageId": "wolfram language"
    }
   },
   "outputs": [],
   "source": [
    "Table[CoefficientList[UsAbelPoly[n, x], x], {n, 0, 7}] // TableForm // TeXForm"
   ]
  },
  {
   "cell_type": "code",
   "execution_count": null,
   "id": "daa00d4c-3e0c-4058-8cd3-266ae48b0de3",
   "metadata": {
    "vscode": {
     "languageId": "wolfram language"
    }
   },
   "outputs": [],
   "source": [
    "Off[Power::infy]\n",
    "Off[Infinity::indet]\n",
    "\n",
    "Table[UsAbelPoly[n, -n], {n, 0, 9}] // TeXForm\n",
    "Table[UsAbelPoly[n, -1], {n, 0, 9}] // TeXForm\n",
    "Table[UsAbelPoly[n, 0], {n, 0, 9}]  // TeXForm\n",
    "Table[UsAbelPoly[n, 1], {n, 0, 9}]  // TeXForm\n",
    "Table[UsAbelPoly[n, n], {n, 0, 9}]  // TeXForm"
   ]
  },
  {
   "cell_type": "code",
   "execution_count": null,
   "id": "ffcbbb35-08db-48ba-b242-1ebfd0332240",
   "metadata": {
    "vscode": {
     "languageId": "wolfram language"
    }
   },
   "outputs": [],
   "source": [
    "Plot[Evaluate[Table[UsAbelPoly[n, x], {n, 5}]], {x, -2, 4}, WorkingPrecision -> 50, PlotTheme -> \"Detailed\"]"
   ]
  },
  {
   "cell_type": "code",
   "execution_count": null,
   "id": "b3b1a784-52cf-4dac-ac04-021cd5d9a080",
   "metadata": {
    "vscode": {
     "languageId": "wolfram language"
    }
   },
   "outputs": [],
   "source": [
    "Plot3D[Evaluate[Re[Exp[y ProductLog[x]]]], {x, -1, 1}, {y, -5.9, 5.9}]"
   ]
  }
 ],
 "metadata": {
  "kernelspec": {
   "display_name": "Wolfram Language 13.3",
   "language": "Wolfram Language",
   "name": "wolframlanguage13.3"
  },
  "language_info": {
   "codemirror_mode": "mathematica",
   "file_extension": ".m",
   "mimetype": "application/vnd.wolfram.m",
   "name": "Wolfram Language",
   "pygments_lexer": "mathematica",
   "version": "12.0"
  }
 },
 "nbformat": 4,
 "nbformat_minor": 5
}
