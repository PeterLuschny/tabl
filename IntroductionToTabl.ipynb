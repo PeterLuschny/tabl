{
 "cells": [
  {
   "cell_type": "code",
   "execution_count": 5,
   "metadata": {},
   "outputs": [],
   "source": [
    "from tabl import *"
   ]
  },
  {
   "cell_type": "markdown",
   "metadata": {},
   "source": [
    "# THE BASICS"
   ]
  },
  {
   "attachments": {},
   "cell_type": "markdown",
   "metadata": {},
   "source": [
    "CapitalizedWords for term T(n, k) (type int)."
   ]
  },
  {
   "cell_type": "code",
   "execution_count": 6,
   "metadata": {},
   "outputs": [
    {
     "data": {
      "text/plain": [
       "25"
      ]
     },
     "execution_count": 6,
     "metadata": {},
     "output_type": "execute_result"
    }
   ],
   "source": [
    "StirlingSet(5, 3)"
   ]
  },
  {
   "attachments": {},
   "cell_type": "markdown",
   "metadata": {},
   "source": [
    "All lower case for row T(n) (type list[int]). "
   ]
  },
  {
   "cell_type": "code",
   "execution_count": 7,
   "metadata": {},
   "outputs": [
    {
     "data": {
      "text/plain": [
       "[0, 1, 15, 25, 10, 1]"
      ]
     },
     "execution_count": 7,
     "metadata": {},
     "output_type": "execute_result"
    }
   ],
   "source": [
    "stirlingset(5)"
   ]
  },
  {
   "cell_type": "code",
   "execution_count": 19,
   "metadata": {},
   "outputs": [
    {
     "data": {
      "text/plain": [
       "[[1],\n",
       " [0, 1],\n",
       " [0, 1, 1],\n",
       " [0, 1, 3, 1],\n",
       " [0, 1, 7, 6, 1],\n",
       " [0, 1, 15, 25, 10, 1],\n",
       " [0, 1, 31, 90, 65, 15, 1],\n",
       " [0, 1, 63, 301, 350, 140, 21, 1],\n",
       " [0, 1, 127, 966, 1701, 1050, 266, 28, 1]]"
      ]
     },
     "execution_count": 19,
     "metadata": {},
     "output_type": "execute_result"
    }
   ],
   "source": [
    "StirlingSet.tab(9)"
   ]
  },
  {
   "cell_type": "code",
   "execution_count": 12,
   "metadata": {},
   "outputs": [
    {
     "data": {
      "text/plain": [
       "[[1],\n",
       " [1, 0],\n",
       " [1, 1, 0],\n",
       " [1, 3, 1, 0],\n",
       " [1, 6, 7, 1, 0],\n",
       " [1, 10, 25, 15, 1, 0],\n",
       " [1, 15, 65, 90, 31, 1, 0],\n",
       " [1, 21, 140, 350, 301, 63, 1, 0],\n",
       " [1, 28, 266, 1050, 1701, 966, 127, 1, 0]]"
      ]
     },
     "execution_count": 12,
     "metadata": {},
     "output_type": "execute_result"
    }
   ],
   "source": [
    "StirlingSet.rev(9)"
   ]
  },
  {
   "cell_type": "code",
   "execution_count": 13,
   "metadata": {},
   "outputs": [
    {
     "data": {
      "text/plain": [
       "[[1],\n",
       " [0, 1],\n",
       " [0, -1, 1],\n",
       " [0, 2, -3, 1],\n",
       " [0, -6, 11, -6, 1],\n",
       " [0, 24, -50, 35, -10, 1],\n",
       " [0, -120, 274, -225, 85, -15, 1],\n",
       " [0, 720, -1764, 1624, -735, 175, -21, 1],\n",
       " [0, -5040, 13068, -13132, 6769, -1960, 322, -28, 1]]"
      ]
     },
     "execution_count": 13,
     "metadata": {},
     "output_type": "execute_result"
    }
   ],
   "source": [
    "StirlingSet.inv(9)"
   ]
  },
  {
   "cell_type": "markdown",
   "metadata": {},
   "source": [
    "'stirling_set.mat' converts the triangle to a square matrix by filling T(n, k) for k > n with zeros."
   ]
  },
  {
   "cell_type": "code",
   "execution_count": 14,
   "metadata": {},
   "outputs": [
    {
     "data": {
      "text/plain": [
       "[[1, 0, 0, 0, 0, 0, 0, 0, 0],\n",
       " [0, 1, 0, 0, 0, 0, 0, 0, 0],\n",
       " [0, 1, 1, 0, 0, 0, 0, 0, 0],\n",
       " [0, 1, 3, 1, 0, 0, 0, 0, 0],\n",
       " [0, 1, 7, 6, 1, 0, 0, 0, 0],\n",
       " [0, 1, 15, 25, 10, 1, 0, 0, 0],\n",
       " [0, 1, 31, 90, 65, 15, 1, 0, 0],\n",
       " [0, 1, 63, 301, 350, 140, 21, 1, 0],\n",
       " [0, 1, 127, 966, 1701, 1050, 266, 28, 1]]"
      ]
     },
     "execution_count": 14,
     "metadata": {},
     "output_type": "execute_result"
    }
   ],
   "source": [
    "StirlingSet.mat(9)"
   ]
  },
  {
   "cell_type": "markdown",
   "metadata": {},
   "source": [
    "The identifier of the function. "
   ]
  },
  {
   "cell_type": "code",
   "execution_count": 15,
   "metadata": {},
   "outputs": [
    {
     "data": {
      "text/plain": [
       "'StirlingSet'"
      ]
     },
     "execution_count": 15,
     "metadata": {},
     "output_type": "execute_result"
    }
   ],
   "source": [
    "StirlingSet.id"
   ]
  },
  {
   "cell_type": "markdown",
   "metadata": {},
   "source": [
    "# CORE TABLES"
   ]
  },
  {
   "cell_type": "code",
   "execution_count": 9,
   "metadata": {},
   "outputs": [
    {
     "name": "stdout",
     "output_type": "stream",
     "text": [
      "[[1], [0, 1], [0, 1, 1], [0, 1, 3, 1], [0, 1, 7, 6, 1], [0, 1, 15, 25, 10, 1], [0, 1, 31, 90, 65, 15, 1], [0, 1, 63, 301, 350, 140, 21, 1], [0, 1, 127, 966, 1701, 1050, 266, 28, 1]]\n"
     ]
    }
   ],
   "source": [
    "t = StirlingSet.tab(9)\n",
    "PrintFlat(t)"
   ]
  },
  {
   "cell_type": "code",
   "execution_count": 8,
   "metadata": {},
   "outputs": [
    {
     "name": "stdout",
     "output_type": "stream",
     "text": [
      "[1]\n",
      "[0, 1]\n",
      "[0, 1, 1]\n",
      "[0, 1, 3, 1]\n",
      "[0, 1, 7, 6, 1]\n",
      "[0, 1, 15, 25, 10, 1]\n",
      "[0, 1, 31, 90, 65, 15, 1]\n",
      "[0, 1, 63, 301, 350, 140, 21, 1]\n",
      "[0, 1, 127, 966, 1701, 1050, 266, 28, 1]\n"
     ]
    }
   ],
   "source": [
    "t = StirlingSet.tab(9)\n",
    "PrintTabl(t)"
   ]
  },
  {
   "cell_type": "code",
   "execution_count": 10,
   "metadata": {},
   "outputs": [
    {
     "name": "stdout",
     "output_type": "stream",
     "text": [
      "0 [0, 0] 1\n",
      "1 [1, 0] 0\n",
      "2 [1, 1] 1\n",
      "3 [2, 0] 0\n",
      "4 [2, 1] 1\n",
      "5 [2, 2] 1\n",
      "6 [3, 0] 0\n",
      "7 [3, 1] 1\n",
      "8 [3, 2] 3\n",
      "9 [3, 3] 1\n"
     ]
    }
   ],
   "source": [
    "t = StirlingSet.tab(4)\n",
    "PrintTerms(t)"
   ]
  },
  {
   "cell_type": "code",
   "execution_count": 28,
   "metadata": {},
   "outputs": [
    {
     "name": "stdout",
     "output_type": "stream",
     "text": [
      "|  Row   |  Seq   |\n",
      "| :---   |  :---  |\n",
      "| Row0 | [1] |\n",
      "| Row1 | [0, 1] |\n",
      "| Row2 | [0, 1, 1] |\n",
      "| Row3 | [0, 1, 3, 1] |\n",
      "| Row4 | [0, 1, 7, 6, 1] |\n",
      "| Row5 | [0, 1, 15, 25, 10, 1] |\n",
      "| Row6 | [0, 1, 31, 90, 65, 15, 1] |\n",
      "| Row7 | [0, 1, 63, 301, 350, 140, 21, 1] |\n",
      "| Row8 | [0, 1, 127, 966, 1701, 1050, 266, 28, 1] |\n"
     ]
    }
   ],
   "source": [
    "t = StirlingSet.tab(9)\n",
    "PrintRows(t)"
   ]
  },
  {
   "attachments": {},
   "cell_type": "markdown",
   "metadata": {},
   "source": [
    "| Row   |  Seq   |\n",
    "| :---  |  :---  |\n",
    "| Row0 | [1] |\n",
    "| Row1 | [0, 1] |\n",
    "| Row2 | [0, 1, 1] |\n",
    "| Row3 | [0, 1, 3, 1] |\n",
    "| Row4 | [0, 1, 7, 6, 1] |\n",
    "| Row5 | [0, 1, 15, 25, 10, 1] |\n",
    "| Row6 | [0, 1, 31, 90, 65, 15, 1] |\n",
    "| Row7 | [0, 1, 63, 301, 350, 140, 21, 1] |\n",
    "| Row8 | [0, 1, 127, 966, 1701, 1050, 266, 28, 1] |"
   ]
  },
  {
   "cell_type": "code",
   "execution_count": 11,
   "metadata": {},
   "outputs": [
    {
     "name": "stdout",
     "output_type": "stream",
     "text": [
      "| DiagRow  |   Seq  |\n",
      "| :---     |  :---  |\n",
      "| DiagRow0 | [1, 1, 1, 1, 1, 1, 1]|\n",
      "| DiagRow1 | [0, 1, 3, 6, 10, 15, 21]|\n",
      "| DiagRow2 | [0, 1, 7, 25, 65, 140, 266]|\n",
      "| DiagRow3 | [0, 1, 15, 90, 350, 1050, 2646]|\n",
      "| DiagRow4 | [0, 1, 31, 301, 1701, 6951, 22827]|\n",
      "| DiagRow5 | [0, 1, 63, 966, 7770, 42525, 179487]|\n"
     ]
    }
   ],
   "source": [
    "PrintRowArray(stirlingset, 6, 7)"
   ]
  },
  {
   "attachments": {},
   "cell_type": "markdown",
   "metadata": {},
   "source": [
    "| DiagRow  |   Seq  |\n",
    "| :---     |  :---  |\n",
    "| DiagRow0 | [1, 1, 1, 1, 1, 1, 1]|\n",
    "| DiagRow1 | [0, 1, 3, 6, 10, 15, 21]|\n",
    "| DiagRow2 | [0, 1, 7, 25, 65, 140, 266]|\n",
    "| DiagRow3 | [0, 1, 15, 90, 350, 1050, 2646]|\n",
    "| DiagRow4 | [0, 1, 31, 301, 1701, 6951, 22827]|\n",
    "| DiagRow5 | [0, 1, 63, 966, 7770, 42525, 179487]|"
   ]
  },
  {
   "cell_type": "code",
   "execution_count": 20,
   "metadata": {},
   "outputs": [
    {
     "name": "stdout",
     "output_type": "stream",
     "text": [
      "| DiagCol  |   Seq  |\n",
      "| :---     |  :---  |\n",
      "| DiagCol0 | [1, 0, 0, 0, 0, 0] |\n",
      "| DiagCol1 | [1, 1, 1, 1, 1, 1] |\n",
      "| DiagCol2 | [1, 3, 7, 15, 31, 63] |\n",
      "| DiagCol3 | [1, 6, 25, 90, 301, 966] |\n",
      "| DiagCol4 | [1, 10, 65, 350, 1701, 7770] |\n",
      "| DiagCol5 | [1, 15, 140, 1050, 6951, 42525] |\n",
      "| DiagCol6 | [1, 21, 266, 2646, 22827, 179487] |\n"
     ]
    }
   ],
   "source": [
    "PrintColArray(stirlingset, 6, 7) "
   ]
  },
  {
   "attachments": {},
   "cell_type": "markdown",
   "metadata": {},
   "source": [
    "| DiagCol  |   Seq  |\n",
    "| :---     |  :---  |\n",
    "| DiagCol0 | [1, 0, 0, 0, 0, 0] |\n",
    "| DiagCol1 | [1, 1, 1, 1, 1, 1] |\n",
    "| DiagCol2 | [1, 3, 7, 15, 31, 63] |\n",
    "| DiagCol3 | [1, 6, 25, 90, 301, 966] |\n",
    "| DiagCol4 | [1, 10, 65, 350, 1701, 7770] |\n",
    "| DiagCol5 | [1, 15, 140, 1050, 6951, 42525] |\n",
    "| DiagCol6 | [1, 21, 266, 2646, 22827, 179487] |"
   ]
  },
  {
   "cell_type": "code",
   "execution_count": 23,
   "metadata": {},
   "outputs": [
    {
     "name": "stdout",
     "output_type": "stream",
     "text": [
      "| PolyRow  |   Seq  |\n",
      "| :---     |  :---  |\n",
      "| PolyRow0 | [1, 1, 1, 1, 1, 1, 1] |\n",
      "| PolyRow1 | [0, 1, 2, 3, 4, 5, 6] |\n",
      "| PolyRow2 | [0, 2, 6, 12, 20, 30, 42] |\n",
      "| PolyRow3 | [0, 5, 22, 57, 116, 205, 330] |\n",
      "| PolyRow4 | [0, 15, 94, 309, 756, 1555, 2850] |\n",
      "| PolyRow5 | [0, 52, 454, 1866, 5428, 12880, 26682] |\n"
     ]
    }
   ],
   "source": [
    "PrintPolyRowArray(stirlingset, 6, 7)"
   ]
  },
  {
   "attachments": {},
   "cell_type": "markdown",
   "metadata": {},
   "source": [
    "| PolyRow  |   Seq  |\n",
    "| :---     |  :---  |\n",
    "| PolyRow0 | [1, 1, 1, 1, 1, 1, 1] |\n",
    "| PolyRow1 | [0, 1, 2, 3, 4, 5, 6] |\n",
    "| PolyRow2 | [0, 2, 6, 12, 20, 30, 42] |\n",
    "| PolyRow3 | [0, 5, 22, 57, 116, 205, 330] |\n",
    "| PolyRow4 | [0, 15, 94, 309, 756, 1555, 2850] |\n",
    "| PolyRow5 | [0, 52, 454, 1866, 5428, 12880, 26682] |"
   ]
  },
  {
   "cell_type": "code",
   "execution_count": 24,
   "metadata": {},
   "outputs": [
    {
     "name": "stdout",
     "output_type": "stream",
     "text": [
      "| PolyCol  |   Seq  |\n",
      "| :---     |  :---  |\n",
      "| PolyCol0 | [1, 0, 0, 0, 0, 0, 0] |\n",
      "| PolyCol1 | [1, 1, 2, 5, 15, 52, 203] |\n",
      "| PolyCol2 | [1, 2, 6, 22, 94, 454, 2430] |\n",
      "| PolyCol3 | [1, 3, 12, 57, 309, 1866, 12351] |\n",
      "| PolyCol4 | [1, 4, 20, 116, 756, 5428, 42356] |\n",
      "| PolyCol5 | [1, 5, 30, 205, 1555, 12880, 115155] |\n"
     ]
    }
   ],
   "source": [
    "PrintPolyColArray(stirlingset, 6, 7)"
   ]
  },
  {
   "attachments": {},
   "cell_type": "markdown",
   "metadata": {},
   "source": [
    "| PolyCol  |   Seq  |\n",
    "| :---     |  :---  |\n",
    "| PolyCol0 | [1, 0, 0, 0, 0, 0, 0] |\n",
    "| PolyCol1 | [1, 1, 2, 5, 15, 52, 203] |\n",
    "| PolyCol2 | [1, 2, 6, 22, 94, 454, 2430] |\n",
    "| PolyCol3 | [1, 3, 12, 57, 309, 1866, 12351] |\n",
    "| PolyCol4 | [1, 4, 20, 116, 756, 5428, 42356] |\n",
    "| PolyCol5 | [1, 5, 30, 205, 1555, 12880, 115155] |"
   ]
  },
  {
   "cell_type": "code",
   "execution_count": 13,
   "metadata": {},
   "outputs": [
    {
     "name": "stdout",
     "output_type": "stream",
     "text": [
      "# Abel\n",
      "['A061356', 'A137452', 'A139526']\n",
      "\n",
      "Abel Triangle view\n",
      "|  Row   |  Seq   |\n",
      "| :---   |  :---  |\n",
      "| Row0 | [1] |\n",
      "| Row1 | [0, 1] |\n",
      "| Row2 | [0, 2, 1] |\n",
      "| Row3 | [0, 9, 6, 1] |\n",
      "| Row4 | [0, 64, 48, 12, 1] |\n",
      "| Row5 | [0, 625, 500, 150, 20, 1] |\n",
      "| Row6 | [0, 7776, 6480, 2160, 360, 30, 1] |\n",
      "\n",
      "Abel Triangles\n",
      "| Flat       |  Seq  |\n",
      "| :---       | :---  |\n",
      "| Tabl       | [[1], [0, 1], [0, 2, 1], [0, 9, 6, 1], [0, 64, 48, 12, 1], [0, 625, 500, 150, 20, 1], [0, 7776, 6480, 2160, 360, 30, 1]] |\n",
      "| RevTabl    | [[1], [1, 0], [1, 2, 0], [1, 6, 9, 0], [1, 12, 48, 64, 0], [1, 20, 150, 500, 625, 0], [1, 30, 360, 2160, 6480, 7776, 0]] |\n",
      "| AntiDiag   | [[1], [0], [0, 1], [0, 2], [0, 9, 1], [0, 64, 6], [0, 625, 48, 1]] |\n",
      "| AccTabl    | [[1], [0, 1], [0, 2, 3], [0, 9, 15, 16], [0, 64, 112, 124, 125], [0, 625, 1125, 1275, 1295, 1296], [0, 7776, 14256, 16416, 16776, 16806, 16807]] |\n",
      "| RevAccTabl | [[1], [1, 0], [3, 2, 0], [16, 15, 9, 0], [125, 124, 112, 64, 0], [1296, 1295, 1275, 1125, 625, 0], [16807, 16806, 16776, 16416, 14256, 7776, 0]] |\n",
      "| AccRevTabl | [[1], [1, 1], [1, 3, 3], [1, 7, 16, 16], [1, 13, 61, 125, 125], [1, 21, 171, 671, 1296, 1296], [1, 31, 391, 2551, 9031, 16807, 16807]] |\n",
      "\n",
      "Abel Row sums\n",
      "| Trait        |   Seq  |\n",
      "| :---         |  :---  |\n",
      "| RowSum       | [1, 1, 3, 16, 125, 1296, 16807] |\n",
      "| EvenSum      | [1, 0, 1, 6, 49, 520, 6841] |\n",
      "| OddSum       | [0, 1, 2, 10, 76, 776, 9966] |\n",
      "| AltSum       | [1, -1, -1, -4, -27, -256, -3125] |\n",
      "| AccSum       | [1, 1, 5, 40, 425, 5616, 88837] |\n",
      "| AccRevSum    | [1, 2, 7, 40, 325, 3456, 45619] |\n",
      "| AntiDiagSum  | [1, 0, 1, 2, 10, 70, 674] |\n",
      "\n",
      "Abel Transforms\n",
      "| Trans      |   Seq  |\n",
      "| :---       |  :---  |\n",
      "| RowLcm     | [1, 1, 2, 18, 192, 7500, 38880] |\n",
      "| RowGcd     | [1, 1, 2, 3, 4, 5, 6] |\n",
      "| RowMax     | [1, 1, 2, 9, 64, 625, 7776] |\n",
      "| ColMiddle  | [1, 0, 2, 9, 48, 500, 2160] |\n",
      "| ColECenter | [1, 2, 48, 2160] |\n",
      "| ColOCenter | [0, 9, 500] |\n",
      "| ColLeft    | [1, 0, 0, 0, 0, 0, 0] |\n",
      "| ColRight   | [1, 1, 1, 1, 1, 1, 1] |\n",
      "| TransSqrs  | [0, 1, 6, 42, 380, 4320, 59682] |\n",
      "| TransNat0  | [0, 1, 4, 24, 200, 2160, 28812] |\n",
      "| TransNat1  | [1, 2, 7, 40, 325, 3456, 45619] |\n",
      "\n",
      "Abel Diagonals as rows\n",
      "| DiagRow  |   Seq  |\n",
      "| :---     |  :---  |\n",
      "| DiagRow0 | [1, 1, 1, 1, 1, 1, 1]|\n",
      "| DiagRow1 | [0, 2, 6, 12, 20, 30, 42]|\n",
      "| DiagRow2 | [0, 9, 48, 150, 360, 735, 1344]|\n",
      "| DiagRow3 | [0, 64, 500, 2160, 6860, 17920, 40824]|\n",
      "| DiagRow4 | [0, 625, 6480, 36015, 143360, 459270, 1260000]|\n",
      "| DiagRow5 | [0, 7776, 100842, 688128, 3306744, 12600000, 40584852]|\n",
      "| DiagRow6 | [0, 117649, 1835008, 14880348, 84000000, 372027810, 1379524608]|\n",
      "\n",
      "Abel Diagonals as columns\n",
      "| DiagCol  |   Seq  |\n",
      "| :---     |  :---  |\n",
      "| DiagCol0 | [1, 0, 0, 0, 0, 0, 0] |\n",
      "| DiagCol1 | [1, 2, 9, 64, 625, 7776, 117649] |\n",
      "| DiagCol2 | [1, 6, 48, 500, 6480, 100842, 1835008] |\n",
      "| DiagCol3 | [1, 12, 150, 2160, 36015, 688128, 14880348] |\n",
      "| DiagCol4 | [1, 20, 360, 6860, 143360, 3306744, 84000000] |\n",
      "| DiagCol5 | [1, 30, 735, 17920, 459270, 12600000, 372027810] |\n",
      "| DiagCol6 | [1, 42, 1344, 40824, 1260000, 40584852, 1379524608] |\n",
      "\n",
      "Abel Polynomial values as rows\n",
      "| PolyRow  |   Seq  |\n",
      "| :---     |  :---  |\n",
      "| PolyRow0 | [1, 1, 1, 1, 1, 1, 1] |\n",
      "| PolyRow1 | [0, 1, 2, 3, 4, 5, 6] |\n",
      "| PolyRow2 | [0, 3, 8, 15, 24, 35, 48] |\n",
      "| PolyRow3 | [0, 16, 50, 108, 196, 320, 486] |\n",
      "| PolyRow4 | [0, 125, 432, 1029, 2048, 3645, 6000] |\n",
      "| PolyRow5 | [0, 1296, 4802, 12288, 26244, 50000, 87846] |\n",
      "| PolyRow6 | [0, 16807, 65536, 177147, 400000, 805255, 1492992] |\n",
      "\n",
      "Abel Polynomial values as columns\n",
      "| PolyCol  |   Seq  |\n",
      "| :---     |  :---  |\n",
      "| PolyCol0 | [1, 0, 0, 0, 0, 0, 0] |\n",
      "| PolyCol1 | [1, 1, 3, 16, 125, 1296, 16807] |\n",
      "| PolyCol2 | [1, 2, 8, 50, 432, 4802, 65536] |\n",
      "| PolyCol3 | [1, 3, 15, 108, 1029, 12288, 177147] |\n",
      "| PolyCol4 | [1, 4, 24, 196, 2048, 26244, 400000] |\n",
      "| PolyCol5 | [1, 5, 35, 320, 3645, 50000, 805255] |\n",
      "| PolyCol6 | [1, 6, 48, 486, 6000, 87846, 1492992] |\n",
      "\n"
     ]
    }
   ],
   "source": [
    "PrintViews(Abel)"
   ]
  },
  {
   "attachments": {},
   "cell_type": "markdown",
   "metadata": {},
   "source": [
    "\n",
    "# Abel\n",
    "['A061356', 'A137452', 'A139526']\n",
    "\n",
    "Abel Triangle view\n",
    "\n",
    "|  Row   |  Seq   |\n",
    "| :---   |  :---  |\n",
    "| Row0 | [1] |\n",
    "| Row1 | [0, 1] |\n",
    "| Row2 | [0, 2, 1] |\n",
    "| Row3 | [0, 9, 6, 1] |\n",
    "| Row4 | [0, 64, 48, 12, 1] |\n",
    "| Row5 | [0, 625, 500, 150, 20, 1] |\n",
    "| Row6 | [0, 7776, 6480, 2160, 360, 30, 1] |\n",
    "\n",
    "Abel Triangles\n",
    "\n",
    "| Flat       |  Seq  |\n",
    "| :---       | :---  |\n",
    "| Tabl       | [[1], [0, 1], [0, 2, 1], [0, 9, 6, 1], [0, 64, 48, 12, 1], [0, 625, 500, 150, 20, 1], [0, 7776, 6480, 2160, 360, 30, 1]] |\n",
    "| RevTabl    | [[1], [1, 0], [1, 2, 0], [1, 6, 9, 0], [1, 12, 48, 64, 0], [1, 20, 150, 500, 625, 0], [1, 30, 360, 2160, 6480, 7776, 0]] |\n",
    "| AntiDiag   | [[1], [0], [0, 1], [0, 2], [0, 9, 1], [0, 64, 6], [0, 625, 48, 1]] |\n",
    "| AccTabl    | [[1], [0, 1], [0, 2, 3], [0, 9, 15, 16], [0, 64, 112, 124, 125], [0, 625, 1125, 1275, 1295, 1296], [0, 7776, 14256, 16416, 16776, 16806, 16807]] |\n",
    "| RevAccTabl | [[1], [1, 0], [3, 2, 0], [16, 15, 9, 0], [125, 124, 112, 64, 0], [1296, 1295, 1275, 1125, 625, 0], [16807, 16806, 16776, 16416, 14256, 7776, 0]] |\n",
    "| AccRevTabl | [[1], [1, 1], [1, 3, 3], [1, 7, 16, 16], [1, 13, 61, 125, 125], [1, 21, 171, 671, 1296, 1296], [1, 31, 391, 2551, 9031, 16807, 16807]] |\n",
    "\n",
    "Abel Row sums\n",
    "\n",
    "| Trait        |   Seq  |\n",
    "| :---         |  :---  |\n",
    "| RowSum       | [1, 1, 3, 16, 125, 1296, 16807] |\n",
    "| EvenSum      | [1, 0, 1, 6, 49, 520, 6841] |\n",
    "| OddSum       | [0, 1, 2, 10, 76, 776, 9966] |\n",
    "| AltSum       | [1, -1, -1, -4, -27, -256, -3125] |\n",
    "| AccSum       | [1, 1, 5, 40, 425, 5616, 88837] |\n",
    "| AccRevSum    | [1, 2, 7, 40, 325, 3456, 45619] |\n",
    "| AntiDiagSum  | [1, 0, 1, 2, 10, 70, 674] |\n",
    "\n",
    "Abel Transforms\n",
    "\n",
    "| Trans      |   Seq  |\n",
    "| :---       |  :---  |\n",
    "| RowLcm     | [1, 1, 2, 18, 192, 7500, 38880] |\n",
    "| RowGcd     | [1, 1, 2, 3, 4, 5, 6] |\n",
    "| RowMax     | [1, 1, 2, 9, 64, 625, 7776] |\n",
    "| ColMiddle  | [1, 0, 2, 9, 48, 500, 2160] |\n",
    "| ColECenter | [1, 2, 48, 2160] |\n",
    "| ColOCenter | [0, 9, 500] |\n",
    "| ColLeft    | [1, 0, 0, 0, 0, 0, 0] |\n",
    "| ColRight   | [1, 1, 1, 1, 1, 1, 1] |\n",
    "| TransSqrs  | [0, 1, 6, 42, 380, 4320, 59682] |\n",
    "| TransNat0  | [0, 1, 4, 24, 200, 2160, 28812] |\n",
    "| TransNat1  | [1, 2, 7, 40, 325, 3456, 45619] |\n",
    "\n",
    "Abel Diagonals as rows\n",
    "\n",
    "| DiagRow  |   Seq  |\n",
    "| :---     |  :---  |\n",
    "| DiagRow0 | [1, 1, 1, 1, 1, 1, 1]|\n",
    "| DiagRow1 | [0, 2, 6, 12, 20, 30, 42]|\n",
    "| DiagRow2 | [0, 9, 48, 150, 360, 735, 1344]|\n",
    "| DiagRow3 | [0, 64, 500, 2160, 6860, 17920, 40824]|\n",
    "| DiagRow4 | [0, 625, 6480, 36015, 143360, 459270, 1260000]|\n",
    "| DiagRow5 | [0, 7776, 100842, 688128, 3306744, 12600000, 40584852]|\n",
    "| DiagRow6 | [0, 117649, 1835008, 14880348, 84000000, 372027810, 1379524608]|\n",
    "\n",
    "Abel Diagonals as columns\n",
    "\n",
    "| DiagCol  |   Seq  |\n",
    "| :---     |  :---  |\n",
    "| DiagCol0 | [1, 0, 0, 0, 0, 0, 0] |\n",
    "| DiagCol1 | [1, 2, 9, 64, 625, 7776, 117649] |\n",
    "| DiagCol2 | [1, 6, 48, 500, 6480, 100842, 1835008] |\n",
    "| DiagCol3 | [1, 12, 150, 2160, 36015, 688128, 14880348] |\n",
    "| DiagCol4 | [1, 20, 360, 6860, 143360, 3306744, 84000000] |\n",
    "| DiagCol5 | [1, 30, 735, 17920, 459270, 12600000, 372027810] |\n",
    "| DiagCol6 | [1, 42, 1344, 40824, 1260000, 40584852, 1379524608] |\n",
    "\n",
    "Abel Polynomial values as rows\n",
    "\n",
    "| PolyRow  |   Seq  |\n",
    "| :---     |  :---  |\n",
    "| PolyRow0 | [1, 1, 1, 1, 1, 1, 1] |\n",
    "| PolyRow1 | [0, 1, 2, 3, 4, 5, 6] |\n",
    "| PolyRow2 | [0, 3, 8, 15, 24, 35, 48] |\n",
    "| PolyRow3 | [0, 16, 50, 108, 196, 320, 486] |\n",
    "| PolyRow4 | [0, 125, 432, 1029, 2048, 3645, 6000] |\n",
    "| PolyRow5 | [0, 1296, 4802, 12288, 26244, 50000, 87846] |\n",
    "| PolyRow6 | [0, 16807, 65536, 177147, 400000, 805255, 1492992] |\n",
    "\n",
    "Abel Polynomial values as columns\n",
    "\n",
    "| PolyCol  |   Seq  |\n",
    "| :---     |  :---  |\n",
    "| PolyCol0 | [1, 0, 0, 0, 0, 0, 0] |\n",
    "| PolyCol1 | [1, 1, 3, 16, 125, 1296, 16807] |\n",
    "| PolyCol2 | [1, 2, 8, 50, 432, 4802, 65536] |\n",
    "| PolyCol3 | [1, 3, 15, 108, 1029, 12288, 177147] |\n",
    "| PolyCol4 | [1, 4, 24, 196, 2048, 26244, 400000] |\n",
    "| PolyCol5 | [1, 5, 35, 320, 3645, 50000, 805255] |\n",
    "| PolyCol6 | [1, 6, 48, 486, 6000, 87846, 1492992] |"
   ]
  },
  {
   "cell_type": "markdown",
   "metadata": {},
   "source": [
    "# TABLE TRANSFORMS"
   ]
  },
  {
   "cell_type": "code",
   "execution_count": 14,
   "metadata": {},
   "outputs": [
    {
     "data": {
      "text/plain": [
       "[[1],\n",
       " [1, 0],\n",
       " [1, -1, 0],\n",
       " [1, -3, 2, 0],\n",
       " [1, -6, 11, -6, 0],\n",
       " [1, -10, 35, -50, 24, 0],\n",
       " [1, -15, 85, -225, 274, -120, 0],\n",
       " [1, -21, 175, -735, 1624, -1764, 720, 0],\n",
       " [1, -28, 322, -1960, 6769, -13132, 13068, -5040, 0]]"
      ]
     },
     "execution_count": 14,
     "metadata": {},
     "output_type": "execute_result"
    }
   ],
   "source": [
    "StirlingSet.revinv(9)"
   ]
  },
  {
   "attachments": {},
   "cell_type": "markdown",
   "metadata": {},
   "source": [
    "'StirlingSet.invrev', i.e. the inverse of the reversed StirlingSet triangle does not exist because StirlingSet.rev is not invertible. In such cases simply the empty triangle [] is returned (and no error thrown)."
   ]
  },
  {
   "cell_type": "code",
   "execution_count": 15,
   "metadata": {},
   "outputs": [
    {
     "data": {
      "text/plain": [
       "[]"
      ]
     },
     "execution_count": 15,
     "metadata": {},
     "output_type": "execute_result"
    }
   ],
   "source": [
    "StirlingSet.invrev(9)"
   ]
  },
  {
   "cell_type": "markdown",
   "metadata": {},
   "source": [
    "Conversely, a triangle which has not a 'revinv' but an 'invrev' form is the Delannoy triangle. Of course, all this depends on how the triangle was defined in the first place. And indeed some call the reversed Delannoy triangle the Delannoy triangle. "
   ]
  },
  {
   "cell_type": "code",
   "execution_count": 16,
   "metadata": {},
   "outputs": [
    {
     "data": {
      "text/plain": [
       "[[1],\n",
       " [-1, 1],\n",
       " [2, -3, 1],\n",
       " [-6, 10, -5, 1],\n",
       " [22, -38, 22, -7, 1],\n",
       " [-90, 158, -98, 38, -9, 1],\n",
       " [394, -698, 450, -194, 58, -11, 1],\n",
       " [-1806, 3218, -2126, 978, -334, 82, -13, 1],\n",
       " [8558, -15310, 10286, -4942, 1838, -526, 110, -15, 1]]"
      ]
     },
     "execution_count": 16,
     "metadata": {},
     "output_type": "execute_result"
    }
   ],
   "source": [
    "Delannoy.invrev(9)"
   ]
  },
  {
   "cell_type": "code",
   "execution_count": 25,
   "metadata": {},
   "outputs": [
    {
     "data": {
      "text/plain": [
       "[[1],\n",
       " [0],\n",
       " [0, 1],\n",
       " [0, 1],\n",
       " [0, 2, 1],\n",
       " [0, 6, 3],\n",
       " [0, 24, 11, 1],\n",
       " [0, 120, 50, 6],\n",
       " [0, 720, 274, 35, 1],\n",
       " [0, 5040, 1764, 225, 10]]"
      ]
     },
     "execution_count": 25,
     "metadata": {},
     "output_type": "execute_result"
    }
   ],
   "source": [
    "AntiDiagTabl(StirlingCycle.tab(10))"
   ]
  },
  {
   "cell_type": "code",
   "execution_count": 26,
   "metadata": {},
   "outputs": [
    {
     "data": {
      "text/plain": [
       "[[1],\n",
       " [0, 1],\n",
       " [0, 2, 3],\n",
       " [0, 9, 15, 16],\n",
       " [0, 64, 112, 124, 125],\n",
       " [0, 625, 1125, 1275, 1295, 1296],\n",
       " [0, 7776, 14256, 16416, 16776, 16806, 16807],\n",
       " [0, 117649, 218491, 254506, 261366, 262101, 262143, 262144],\n",
       " [0, 2097152, 3932160, 4620288, 4763648, 4781568, 4782912, 4782968, 4782969]]"
      ]
     },
     "execution_count": 26,
     "metadata": {},
     "output_type": "execute_result"
    }
   ],
   "source": [
    "AccTabl(Abel.tab(9))"
   ]
  },
  {
   "cell_type": "code",
   "execution_count": 27,
   "metadata": {},
   "outputs": [
    {
     "data": {
      "text/plain": [
       "[[1],\n",
       " [1, 0],\n",
       " [3, 2, 0],\n",
       " [16, 15, 9, 0],\n",
       " [125, 124, 112, 64, 0],\n",
       " [1296, 1295, 1275, 1125, 625, 0],\n",
       " [16807, 16806, 16776, 16416, 14256, 7776, 0],\n",
       " [262144, 262143, 262101, 261366, 254506, 218491, 117649, 0],\n",
       " [4782969, 4782968, 4782912, 4781568, 4763648, 4620288, 3932160, 2097152, 0]]"
      ]
     },
     "execution_count": 27,
     "metadata": {},
     "output_type": "execute_result"
    }
   ],
   "source": [
    "RevAccTabl(Abel.tab(9))"
   ]
  },
  {
   "cell_type": "code",
   "execution_count": 28,
   "metadata": {},
   "outputs": [
    {
     "data": {
      "text/plain": [
       "[[1],\n",
       " [1, 1],\n",
       " [1, 3, 3],\n",
       " [1, 7, 16, 16],\n",
       " [1, 13, 61, 125, 125],\n",
       " [1, 21, 171, 671, 1296, 1296],\n",
       " [1, 31, 391, 2551, 9031, 16807, 16807],\n",
       " [1, 43, 778, 7638, 43653, 144495, 262144, 262144],\n",
       " [1, 57, 1401, 19321, 162681, 850809, 2685817, 4782969, 4782969]]"
      ]
     },
     "execution_count": 28,
     "metadata": {},
     "output_type": "execute_result"
    }
   ],
   "source": [
    "AccRevTabl(Abel.tab(9))"
   ]
  },
  {
   "cell_type": "code",
   "execution_count": 29,
   "metadata": {},
   "outputs": [
    {
     "name": "stdout",
     "output_type": "stream",
     "text": [
      "# Abel : Tables\n",
      "| Trait    |   Seq  |\n",
      "| :---     |  :---  |\n",
      "| FlatTabl        | [1, 0, 1, 0, 2, 1, 0, 9, 6, 1, 0, 64, 48, 12, 1, 0, 625, 500, 150, 20, 1, 0, 7776, 6480, 2160, 360, 30, 1, 0, 117649, 100842, 36015, 6860, 735, 42, 1] |\n",
      "| FlatRevTabl     | [1, 1, 0, 1, 2, 0, 1, 6, 9, 0, 1, 12, 48, 64, 0, 1, 20, 150, 500, 625, 0, 1, 30, 360, 2160, 6480, 7776, 0, 1, 42, 735, 6860, 36015, 100842, 117649, 0] |\n",
      "| FlatInvTabl     | [1, 0, 1, 0, -2, 1, 0, 3, -6, 1, 0, -4, 24, -12, 1, 0, 5, -80, 90, -20, 1, 0, -6, 240, -540, 240, -30, 1, 0, 7, -672, 2835, -2240, 525, -42, 1] |\n",
      "| FlatInvRevTabl  | [] |\n",
      "| FlatRevInvTabl  | [1, 1, 0, 1, -2, 0, 1, -6, 3, 0, 1, -12, 24, -4, 0, 1, -20, 90, -80, 5, 0, 1, -30, 240, -540, 240, -6, 0, 1, -42, 525, -2240, 2835, -672, 7, 0] |\n",
      "| FlatAccTabl     | [1, 0, 1, 0, 2, 3, 0, 9, 15, 16, 0, 64, 112, 124, 125, 0, 625, 1125, 1275, 1295, 1296, 0, 7776, 14256, 16416, 16776, 16806, 16807, 0, 117649, 218491, 254506, 261366, 262101, 262143, 262144] |\n",
      "| FlatRevAccTabl  | [1, 1, 0, 3, 2, 0, 16, 15, 9, 0, 125, 124, 112, 64, 0, 1296, 1295, 1275, 1125, 625, 0, 16807, 16806, 16776, 16416, 14256, 7776, 0, 262144, 262143, 262101, 261366, 254506, 218491, 117649, 0] |\n",
      "| FlatAccRevTabl  | [1, 1, 1, 1, 3, 3, 1, 7, 16, 16, 1, 13, 61, 125, 125, 1, 21, 171, 671, 1296, 1296, 1, 31, 391, 2551, 9031, 16807, 16807, 1, 43, 778, 7638, 43653, 144495, 262144, 262144] |\n",
      "| FlatAntiDiagTabl | [1, 0, 0, 1, 0, 2, 0, 9, 1, 0, 64, 6, 0, 625, 48, 1, 0, 7776, 500, 12] |\n"
     ]
    }
   ],
   "source": [
    "PrintTabls(Abel)"
   ]
  },
  {
   "attachments": {},
   "cell_type": "markdown",
   "metadata": {},
   "source": [
    "# Abel : Tables\n",
    "| Trait    |   Seq  |\n",
    "| :---     |  :---  |\n",
    "| FlatTabl        | [1, 0, 1, 0, 2, 1, 0, 9, 6, 1, 0, 64, 48, 12, 1, 0, 625, 500, 150, 20, 1, 0, 7776, 6480, 2160, 360, 30, 1, 0, 117649, 100842, 36015, 6860, 735, 42, 1] |\n",
    "| FlatRevTabl     | [1, 1, 0, 1, 2, 0, 1, 6, 9, 0, 1, 12, 48, 64, 0, 1, 20, 150, 500, 625, 0, 1, 30, 360, 2160, 6480, 7776, 0, 1, 42, 735, 6860, 36015, 100842, 117649, 0] |\n",
    "| FlatInvTabl     | [1, 0, 1, 0, -2, 1, 0, 3, -6, 1, 0, -4, 24, -12, 1, 0, 5, -80, 90, -20, 1, 0, -6, 240, -540, 240, -30, 1, 0, 7, -672, 2835, -2240, 525, -42, 1] |\n",
    "| FlatInvRevTabl  | [] |\n",
    "| FlatRevInvTabl  | [1, 1, 0, 1, -2, 0, 1, -6, 3, 0, 1, -12, 24, -4, 0, 1, -20, 90, -80, 5, 0, 1, -30, 240, -540, 240, -6, 0, 1, -42, 525, -2240, 2835, -672, 7, 0] |\n",
    "| FlatAccTabl     | [1, 0, 1, 0, 2, 3, 0, 9, 15, 16, 0, 64, 112, 124, 125, 0, 625, 1125, 1275, 1295, 1296, 0, 7776, 14256, 16416, 16776, 16806, 16807, 0, 117649, 218491, 254506, 261366, 262101, 262143, 262144] |\n",
    "| FlatRevAccTabl  | [1, 1, 0, 3, 2, 0, 16, 15, 9, 0, 125, 124, 112, 64, 0, 1296, 1295, 1275, 1125, 625, 0, 16807, 16806, 16776, 16416, 14256, 7776, 0, 262144, 262143, 262101, 261366, 254506, 218491, 117649, 0] |\n",
    "| FlatAccRevTabl  | [1, 1, 1, 1, 3, 3, 1, 7, 16, 16, 1, 13, 61, 125, 125, 1, 21, 171, 671, 1296, 1296, 1, 31, 391, 2551, 9031, 16807, 16807, 1, 43, 778, 7638, 43653, 144495, 262144, 262144] |\n",
    "| FlatAntiDiagTabl | [1, 0, 0, 1, 0, 2, 0, 9, 1, 0, 64, 6, 0, 625, 48, 1, 0, 7776, 500, 12] |"
   ]
  }
 ],
 "metadata": {
  "kernelspec": {
   "display_name": "Python 3 (ipykernel)",
   "language": "python",
   "name": "python3"
  },
  "language_info": {
   "codemirror_mode": {
    "name": "ipython",
    "version": 3
   },
   "file_extension": ".py",
   "mimetype": "text/x-python",
   "name": "python",
   "nbconvert_exporter": "python",
   "pygments_lexer": "ipython3",
   "version": "3.11.2"
  },
  "vscode": {
   "interpreter": {
    "hash": "ebfc0a8d552866b0d59eba665220a57de3bc06f3ac643b8bef38dd8f66781fdd"
   }
  }
 },
 "nbformat": 4,
 "nbformat_minor": 2
}
