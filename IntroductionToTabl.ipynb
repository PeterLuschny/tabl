{
 "cells": [
  {
   "cell_type": "code",
   "execution_count": 2,
   "metadata": {},
   "outputs": [],
   "source": [
    "from tabl import *"
   ]
  },
  {
   "cell_type": "markdown",
   "metadata": {},
   "source": [
    "# THE BASICS"
   ]
  },
  {
   "cell_type": "code",
   "execution_count": 3,
   "metadata": {},
   "outputs": [
    {
     "data": {
      "text/plain": [
       "25"
      ]
     },
     "execution_count": 3,
     "metadata": {},
     "output_type": "execute_result"
    }
   ],
   "source": [
    "stirling_set(5, 3)"
   ]
  },
  {
   "cell_type": "code",
   "execution_count": 4,
   "metadata": {},
   "outputs": [
    {
     "data": {
      "text/plain": [
       "[0, 1, 15, 25, 10, 1]"
      ]
     },
     "execution_count": 4,
     "metadata": {},
     "output_type": "execute_result"
    }
   ],
   "source": [
    "stirling_set(5)"
   ]
  },
  {
   "cell_type": "code",
   "execution_count": 5,
   "metadata": {},
   "outputs": [
    {
     "data": {
      "text/plain": [
       "[[1],\n",
       " [0, 1],\n",
       " [0, 1, 1],\n",
       " [0, 1, 3, 1],\n",
       " [0, 1, 7, 6, 1],\n",
       " [0, 1, 15, 25, 10, 1],\n",
       " [0, 1, 31, 90, 65, 15, 1],\n",
       " [0, 1, 63, 301, 350, 140, 21, 1],\n",
       " [0, 1, 127, 966, 1701, 1050, 266, 28, 1]]"
      ]
     },
     "execution_count": 5,
     "metadata": {},
     "output_type": "execute_result"
    }
   ],
   "source": [
    "stirling_set.tab(9)"
   ]
  },
  {
   "cell_type": "code",
   "execution_count": 6,
   "metadata": {},
   "outputs": [
    {
     "data": {
      "text/plain": [
       "[[1],\n",
       " [1, 0],\n",
       " [1, 1, 0],\n",
       " [1, 3, 1, 0],\n",
       " [1, 6, 7, 1, 0],\n",
       " [1, 10, 25, 15, 1, 0],\n",
       " [1, 15, 65, 90, 31, 1, 0],\n",
       " [1, 21, 140, 350, 301, 63, 1, 0],\n",
       " [1, 28, 266, 1050, 1701, 966, 127, 1, 0]]"
      ]
     },
     "execution_count": 6,
     "metadata": {},
     "output_type": "execute_result"
    }
   ],
   "source": [
    "stirling_set.rev(9)"
   ]
  },
  {
   "cell_type": "code",
   "execution_count": 7,
   "metadata": {},
   "outputs": [
    {
     "data": {
      "text/plain": [
       "[[1],\n",
       " [0, 1],\n",
       " [0, -1, 1],\n",
       " [0, 2, -3, 1],\n",
       " [0, -6, 11, -6, 1],\n",
       " [0, 24, -50, 35, -10, 1],\n",
       " [0, -120, 274, -225, 85, -15, 1],\n",
       " [0, 720, -1764, 1624, -735, 175, -21, 1],\n",
       " [0, -5040, 13068, -13132, 6769, -1960, 322, -28, 1]]"
      ]
     },
     "execution_count": 7,
     "metadata": {},
     "output_type": "execute_result"
    }
   ],
   "source": [
    "stirling_set.inv(9)"
   ]
  },
  {
   "cell_type": "code",
   "execution_count": 8,
   "metadata": {},
   "outputs": [
    {
     "data": {
      "text/plain": [
       "[[1],\n",
       " [1, 0],\n",
       " [1, -1, 0],\n",
       " [1, -3, 2, 0],\n",
       " [1, -6, 11, -6, 0],\n",
       " [1, -10, 35, -50, 24, 0],\n",
       " [1, -15, 85, -225, 274, -120, 0],\n",
       " [1, -21, 175, -735, 1624, -1764, 720, 0],\n",
       " [1, -28, 322, -1960, 6769, -13132, 13068, -5040, 0]]"
      ]
     },
     "execution_count": 8,
     "metadata": {},
     "output_type": "execute_result"
    }
   ],
   "source": [
    "stirling_set.revinv(9)"
   ]
  },
  {
   "cell_type": "markdown",
   "metadata": {},
   "source": [
    "'stirling_set.invrev', i.e. the inverse of the reversed stirling_set triangle does not exist because stirling_set.rev is not invertible. In such cases simply the empty triangle [] is returned (and no error thrown)."
   ]
  },
  {
   "cell_type": "code",
   "execution_count": 9,
   "metadata": {},
   "outputs": [
    {
     "data": {
      "text/plain": [
       "[]"
      ]
     },
     "execution_count": 9,
     "metadata": {},
     "output_type": "execute_result"
    }
   ],
   "source": [
    "stirling_set.invrev(9)"
   ]
  },
  {
   "cell_type": "markdown",
   "metadata": {},
   "source": [
    "Conversely, a triangle which has not a 'revinv' but an 'invrev' form is the Delannoy triangle. Of course, all this depends on how the triangle was defined in the first place. And indeed some call the reversed Delannoy triangle the Delannoy triangle. "
   ]
  },
  {
   "cell_type": "code",
   "execution_count": 10,
   "metadata": {},
   "outputs": [
    {
     "data": {
      "text/plain": [
       "[[1],\n",
       " [-1, 1],\n",
       " [2, -3, 1],\n",
       " [-6, 10, -5, 1],\n",
       " [22, -38, 22, -7, 1],\n",
       " [-90, 158, -98, 38, -9, 1],\n",
       " [394, -698, 450, -194, 58, -11, 1],\n",
       " [-1806, 3218, -2126, 978, -334, 82, -13, 1],\n",
       " [8558, -15310, 10286, -4942, 1838, -526, 110, -15, 1]]"
      ]
     },
     "execution_count": 10,
     "metadata": {},
     "output_type": "execute_result"
    }
   ],
   "source": [
    "delannoy.invrev(9)"
   ]
  },
  {
   "cell_type": "markdown",
   "metadata": {},
   "source": [
    "'stirling_set.mat' converts the triangle to a square matrix by filling T(n, k) for k > n with zeros."
   ]
  },
  {
   "cell_type": "code",
   "execution_count": 11,
   "metadata": {},
   "outputs": [
    {
     "data": {
      "text/plain": [
       "[[1, 0, 0, 0, 0, 0, 0, 0, 0],\n",
       " [0, 1, 0, 0, 0, 0, 0, 0, 0],\n",
       " [0, 1, 1, 0, 0, 0, 0, 0, 0],\n",
       " [0, 1, 3, 1, 0, 0, 0, 0, 0],\n",
       " [0, 1, 7, 6, 1, 0, 0, 0, 0],\n",
       " [0, 1, 15, 25, 10, 1, 0, 0, 0],\n",
       " [0, 1, 31, 90, 65, 15, 1, 0, 0],\n",
       " [0, 1, 63, 301, 350, 140, 21, 1, 0],\n",
       " [0, 1, 127, 966, 1701, 1050, 266, 28, 1]]"
      ]
     },
     "execution_count": 11,
     "metadata": {},
     "output_type": "execute_result"
    }
   ],
   "source": [
    "stirling_set.mat(9)"
   ]
  },
  {
   "cell_type": "markdown",
   "metadata": {},
   "source": [
    "The identifier of the function. "
   ]
  },
  {
   "cell_type": "code",
   "execution_count": 12,
   "metadata": {},
   "outputs": [
    {
     "data": {
      "text/plain": [
       "'STIRLING2SET'"
      ]
     },
     "execution_count": 12,
     "metadata": {},
     "output_type": "execute_result"
    }
   ],
   "source": [
    "stirling_set.id"
   ]
  },
  {
   "cell_type": "markdown",
   "metadata": {},
   "source": [
    "# TABLES"
   ]
  },
  {
   "cell_type": "code",
   "execution_count": 13,
   "metadata": {},
   "outputs": [
    {
     "name": "stdout",
     "output_type": "stream",
     "text": [
      "[1, 0, 1, 0, 1, 1, 0, 1, 3, 1, 0, 1, 7, 6, 1, 0, 1, 15, 25, 10, 1, 0, 1, 31, 90, 65, 15, 1, 0, 1, 63, 301, 350, 140, 21, 1, 0, 1, 127, 966, 1701, 1050, 266, 28, 1]\n"
     ]
    }
   ],
   "source": [
    "t = stirling_set.tab(9)\n",
    "PrintFlat(t)"
   ]
  },
  {
   "cell_type": "code",
   "execution_count": 14,
   "metadata": {},
   "outputs": [
    {
     "name": "stdout",
     "output_type": "stream",
     "text": [
      "[[1], [0, 1], [0, 1, 1], [0, 1, 3, 1], [0, 1, 7, 6, 1], [0, 1, 15, 25, 10, 1], [0, 1, 31, 90, 65, 15, 1], [0, 1, 63, 301, 350, 140, 21, 1], [0, 1, 127, 966, 1701, 1050, 266, 28, 1]]\n"
     ]
    }
   ],
   "source": [
    "t = stirling_set.tab(9)\n",
    "PrintTabl(t)"
   ]
  },
  {
   "cell_type": "code",
   "execution_count": 15,
   "metadata": {},
   "outputs": [
    {
     "name": "stdout",
     "output_type": "stream",
     "text": [
      "0 [0, 0] 1\n",
      "1 [1, 0] 0\n",
      "2 [1, 1] 1\n",
      "3 [2, 0] 0\n",
      "4 [2, 1] 1\n",
      "5 [2, 2] 1\n",
      "6 [3, 0] 0\n",
      "7 [3, 1] 1\n",
      "8 [3, 2] 3\n",
      "9 [3, 3] 1\n"
     ]
    }
   ],
   "source": [
    "t = stirling_set.tab(4)\n",
    "PrintTerms(t)"
   ]
  },
  {
   "cell_type": "code",
   "execution_count": null,
   "metadata": {},
   "outputs": [],
   "source": [
    "t = stirling_set.tab(9)\n",
    "PrintRows(t)"
   ]
  },
  {
   "cell_type": "markdown",
   "metadata": {},
   "source": [
    "| trow  |  list  |\n",
    "| :---  |  :---  |\n",
    "| trow0 | [1] |\n",
    "| trow1 | [0, 1] |\n",
    "| trow2 | [0, 1, 1] |\n",
    "| trow3 | [0, 1, 3, 1] |\n",
    "| trow4 | [0, 1, 7, 6, 1] |\n",
    "| trow5 | [0, 1, 15, 25, 10, 1] |\n",
    "| trow6 | [0, 1, 31, 90, 65, 15, 1] |\n",
    "| trow7 | [0, 1, 63, 301, 350, 140, 21, 1] |\n",
    "| trow8 | [0, 1, 127, 966, 1701, 1050, 266, 28, 1] |"
   ]
  },
  {
   "cell_type": "code",
   "execution_count": null,
   "metadata": {},
   "outputs": [],
   "source": [
    "PrintRowArray(stirling_set, 6, 7)"
   ]
  },
  {
   "cell_type": "markdown",
   "metadata": {},
   "source": [
    "| rdiag  |   seq  |\n",
    "| :---   |  :---  |\n",
    "| rdiag0 | [1, 1, 1, 1, 1, 1, 1]|\n",
    "| rdiag1 | [0, 1, 3, 6, 10, 15, 21]|\n",
    "| rdiag2 | [0, 1, 7, 25, 65, 140, 266]|\n",
    "| rdiag3 | [0, 1, 15, 90, 350, 1050, 2646]|\n",
    "| rdiag4 | [0, 1, 31, 301, 1701, 6951, 22827]|\n",
    "| rdiag5 | [0, 1, 63, 966, 7770, 42525, 179487]|\n",
    "| rdiag6 | [0, 1, 127, 3025, 34105, 246730, 1323652]|"
   ]
  },
  {
   "cell_type": "code",
   "execution_count": null,
   "metadata": {},
   "outputs": [],
   "source": [
    "PrintColArray(stirling_set, 6, 7) "
   ]
  },
  {
   "cell_type": "markdown",
   "metadata": {},
   "source": [
    "| cdiag  |   seq  |\n",
    "| :---   |  :---  |\n",
    "| cdiag0 | [1, 0, 0, 0, 0, 0] |\n",
    "| cdiag1 | [1, 1, 1, 1, 1, 1] |\n",
    "| cdiag2 | [1, 3, 7, 15, 31, 63] |\n",
    "| cdiag3 | [1, 6, 25, 90, 301, 966] |\n",
    "| cdiag4 | [1, 10, 65, 350, 1701, 7770] |\n",
    "| cdiag5 | [1, 15, 140, 1050, 6951, 42525] |\n",
    "| cdiag6 | [1, 21, 266, 2646, 22827, 179487] |"
   ]
  },
  {
   "cell_type": "code",
   "execution_count": null,
   "metadata": {},
   "outputs": [],
   "source": [
    "PrintRowPolyArray(stirling_set, 6, 7)"
   ]
  },
  {
   "cell_type": "markdown",
   "metadata": {},
   "source": [
    "| rpdiag  |   seq  |\n",
    "| :---    |  :---  |\n",
    "| rpdiag0 | [1, 1, 1, 1, 1, 1, 1] |\n",
    "| rpdiag1 | [0, 1, 2, 3, 4, 5, 6] |\n",
    "| rpdiag2 | [0, 2, 6, 12, 20, 30, 42] |\n",
    "| rpdiag3 | [0, 5, 22, 57, 116, 205, 330] |\n",
    "| rpdiag4 | [0, 15, 94, 309, 756, 1555, 2850] |\n",
    "| rpdiag5 | [0, 52, 454, 1866, 5428, 12880, 26682] |"
   ]
  },
  {
   "cell_type": "code",
   "execution_count": null,
   "metadata": {},
   "outputs": [],
   "source": [
    "PrintColPolyArray(stirling_set, 6, 7)"
   ]
  },
  {
   "cell_type": "markdown",
   "metadata": {},
   "source": [
    "| cpdiag  |   seq  |\n",
    "| :---    |  :---  |\n",
    "| cpdiag0 | [1, 0, 0, 0, 0, 0, 0] |\n",
    "| cpdiag1 | [1, 1, 2, 5, 15, 52, 203] |\n",
    "| cpdiag2 | [1, 2, 6, 22, 94, 454, 2430] |\n",
    "| cpdiag3 | [1, 3, 12, 57, 309, 1866, 12351] |\n",
    "| cpdiag4 | [1, 4, 20, 116, 756, 5428, 42356] |\n",
    "| cpdiag5 | [1, 5, 30, 205, 1555, 12880, 115155] |"
   ]
  },
  {
   "cell_type": "code",
   "execution_count": null,
   "metadata": {},
   "outputs": [],
   "source": [
    "PrintViews(abel)"
   ]
  },
  {
   "cell_type": "markdown",
   "metadata": {},
   "source": [
    "\n",
    "ABELPOLYNOMS Triangle view\n",
    "\n",
    "| trow  |  list  |\n",
    "| :---  |  :---  |\n",
    "| trow0 | [1] |\n",
    "| trow1 | [0, 1] |\n",
    "| trow2 | [0, 2, 1] |\n",
    "| trow3 | [0, 9, 6, 1] |\n",
    "| trow4 | [0, 64, 48, 12, 1] |\n",
    "| trow5 | [0, 625, 500, 150, 20, 1] |\n",
    "| trow6 | [0, 7776, 6480, 2160, 360, 30, 1] |\n",
    "\n",
    "ABELPOLYNOMS Flattened seqs\n",
    "\n",
    "| flat      |   seq  |\n",
    "| :---      |  :---  |\n",
    "| tabl     | [1, 0, 1, 0, 2, 1, 0, 9, 6, 1, 0, 64, 48, 12, 1, 0, 625, 500, 150, 20, 1, 0, 7776, 6480, 2160, 360, 30, 1] |\n",
    "| rev      | [1, 1, 0, 1, 2, 0, 1, 6, 9, 0, 1, 12, 48, 64, 0, 1, 20, 150, 500, 625, 0, 1, 30, 360, 2160, 6480, 7776, 0] |\n",
    "| cum      | [1, 0, 1, 0, 2, 3, 0, 9, 15, 16, 0, 64, 112, 124, 125, 0, 625, 1125, 1275, 1295, 1296, 0, 7776, 14256, 16416, 16776, 16806, 16807] |\n",
    "| revcum   | [1, 1, 0, 3, 2, 0, 16, 15, 9, 0, 125, 124, 112, 64, 0, 1296, 1295, 1275, 1125, 625, 0, 16807, 16806, 16776, 16416, 14256, 7776, 0] |\n",
    "| cumrev   | [1, 1, 1, 1, 3, 3, 1, 7, 16, 16, 1, 13, 61, 125, 125, 1, 21, 171, 671, 1296, 1296, 1, 31, 391, 2551, 9031, 16807, 16807] |\n",
    "| diag     | [1, 0, 0, 1, 0, 2, 0, 9, 1, 0, 64, 6] |\n",
    "\n",
    "ABELPOLYNOMS Row sums\n",
    "\n",
    "| sum       |   seq  |\n",
    "| :---      |  :---  |\n",
    "| sum       | [1, 1, 3, 16, 125, 1296, 16807] |\n",
    "| evensum   | [1, 0, 1, 6, 49, 520, 6841] |\n",
    "| oddsum    | [0, 1, 2, 10, 76, 776, 9966] |\n",
    "| altsum    | [1, -1, -1, -4, -27, -256, -3125] |\n",
    "| diagsum   | [1, 0, 1, 2, 10, 70] |\n",
    "| cumsum    | [1, 1, 5, 40, 425, 5616, 88837] |\n",
    "| revcumsum | [1, 2, 7, 40, 325, 3456, 45619] |\n",
    "\n",
    "ABELPOLYNOMS Diagonals as rows\n",
    "\n",
    "| rdiag  |   seq  |\n",
    "| :---   |  :---  |\n",
    "| rdiag0 | [1, 1, 1, 1, 1, 1, 1]|\n",
    "| rdiag1 | [0, 2, 6, 12, 20, 30, 42]|\n",
    "| rdiag2 | [0, 9, 48, 150, 360, 735, 1344]|\n",
    "| rdiag3 | [0, 64, 500, 2160, 6860, 17920, 40824]|\n",
    "| rdiag4 | [0, 625, 6480, 36015, 143360, 459270, 1260000]|\n",
    "| rdiag5 | [0, 7776, 100842, 688128, 3306744, 12600000, 40584852]|\n",
    "| rdiag6 | [0, 117649, 1835008, 14880348, 84000000, 372027810, 1379524608]|\n",
    "\n",
    "ABELPOLYNOMS Diagonals as columns\n",
    "\n",
    "| cdiag  |   seq  |\n",
    "| :---   |  :---  |\n",
    "| cdiag0 | [1, 0, 0, 0, 0, 0, 0] |\n",
    "| cdiag1 | [1, 2, 9, 64, 625, 7776, 117649] |\n",
    "| cdiag2 | [1, 6, 48, 500, 6480, 100842, 1835008] |\n",
    "| cdiag3 | [1, 12, 150, 2160, 36015, 688128, 14880348] |\n",
    "| cdiag4 | [1, 20, 360, 6860, 143360, 3306744, 84000000] |\n",
    "| cdiag5 | [1, 30, 735, 17920, 459270, 12600000, 372027810] |\n",
    "| cdiag6 | [1, 42, 1344, 40824, 1260000, 40584852, 1379524608] |\n",
    "\n",
    "ABELPOLYNOMS Polynomial values as rows\n",
    "\n",
    "| rpdiag  |   seq  |\n",
    "| :---    |  :---  |\n",
    "| rpdiag0 | [1, 1, 1, 1, 1, 1, 1] |\n",
    "| rpdiag1 | [0, 1, 2, 3, 4, 5, 6] |\n",
    "| rpdiag2 | [0, 3, 8, 15, 24, 35, 48] |\n",
    "| rpdiag3 | [0, 16, 50, 108, 196, 320, 486] |\n",
    "| rpdiag4 | [0, 125, 432, 1029, 2048, 3645, 6000] |\n",
    "| rpdiag5 | [0, 1296, 4802, 12288, 26244, 50000, 87846] |\n",
    "| rpdiag6 | [0, 16807, 65536, 177147, 400000, 805255, 1492992] |\n",
    "\n",
    "ABELPOLYNOMS Polynomial values as columns\n",
    "\n",
    "| cpdiag  |   seq  |\n",
    "| :---    |  :---  |\n",
    "| cpdiag0 | [1, 0, 0, 0, 0, 0, 0] |\n",
    "| cpdiag1 | [1, 1, 3, 16, 125, 1296, 16807] |\n",
    "| cpdiag2 | [1, 2, 8, 50, 432, 4802, 65536] |\n",
    "| cpdiag3 | [1, 3, 15, 108, 1029, 12288, 177147] |\n",
    "| cpdiag4 | [1, 4, 24, 196, 2048, 26244, 400000] |\n",
    "| cpdiag5 | [1, 5, 35, 320, 3645, 50000, 805255] |\n",
    "| cpdiag6 | [1, 6, 48, 486, 6000, 87846, 1492992] |\n"
   ]
  }
 ],
 "metadata": {
  "kernelspec": {
   "display_name": "Python 3 (ipykernel)",
   "language": "python",
   "name": "python3"
  },
  "language_info": {
   "codemirror_mode": {
    "name": "ipython",
    "version": 3
   },
   "file_extension": ".py",
   "mimetype": "text/x-python",
   "name": "python",
   "nbconvert_exporter": "python",
   "pygments_lexer": "ipython3",
   "version": "3.11.0"
  },
  "vscode": {
   "interpreter": {
    "hash": "ebfc0a8d552866b0d59eba665220a57de3bc06f3ac643b8bef38dd8f66781fdd"
   }
  }
 },
 "nbformat": 4,
 "nbformat_minor": 2
}
